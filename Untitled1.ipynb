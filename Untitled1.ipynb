{
 "cells": [
  {
   "cell_type": "code",
   "execution_count": 7,
   "metadata": {},
   "outputs": [],
   "source": [
    "import requests\n",
    "import matplotlib.pyplot as plt\n",
    "plt.rcParams['font.sans-serif'] = ['SimHei'] # 正常显示中文\n",
    "plt.rcParams['axes.unicode_minus'] = False # 正常显示负号"
   ]
  },
  {
   "cell_type": "code",
   "execution_count": 2,
   "metadata": {},
   "outputs": [],
   "source": [
    "def get_today_single_stock_data(code):\n",
    "    url = \"http://qt.gtimg.cn/q=\" + code\n",
    "    response = requests.get(url)\n",
    "    source = response.text\n",
    "    # print(source)\n",
    "    replace_str = 'v_ff_' + code + '=\"'\n",
    "    source_array = source.replace(replace_str, \"\").replace('\";', \"\").split(\"~\")\n",
    "    item = {\"股票名字\": source_array[1], \"股票代码\": source_array[2], \"当前价格\": source_array[3], \"昨收\": source_array[4],\n",
    "            \"今开\": source_array[5], \"成交量（手）\": source_array[36], \"外盘\": source_array[7], \"内盘\": source_array[8],\n",
    "            \"买一\": source_array[9], \"买一量（手）\": source_array[10], \"买二\": source_array[11], \"买二量（手）\": source_array[12],\n",
    "            \"买三\": source_array[13], \"买三量（手）\": source_array[14], \"买四\": source_array[15], \"买四量（手）\": source_array[16],\n",
    "            \"买五\": source_array[17], \"买五量（手）\": source_array[18], \"卖一\": source_array[19], \"卖一量\": source_array[20],\n",
    "            \"卖二\": source_array[21], \"卖二量\": source_array[22],\n",
    "            \"卖三\": source_array[23], \"卖三量\": source_array[24],\n",
    "            \"卖四\": source_array[25], \"卖四量\": source_array[26],\n",
    "            \"卖五\": source_array[27], \"卖五量\": source_array[28],\n",
    "            \"最近逐笔成交\": source_array[29], \"时间\": source_array[30], \"涨跌\": source_array[31],\n",
    "            \"涨跌 %\": source_array[32], \"最高\": source_array[41], \"最低\": source_array[42],\n",
    "            \"价格 / 成交量（手） / 成交额\": source_array[35], \"成交额（万）\": source_array[37], \"换手率\": source_array[38],\n",
    "            \"市盈率\": source_array[39], \"振幅\": source_array[43], \"流通市值\": source_array[44], \"总市值\": source_array[45],\n",
    "            \"市净率\": source_array[46], \"涨停价\": source_array[47], \"跌停价\": source_array[48]}\n",
    "\n",
    "    return item"
   ]
  },
  {
   "cell_type": "code",
   "execution_count": 9,
   "metadata": {},
   "outputs": [
    {
     "data": {
      "image/png": "[encoded data removed]",
      "text/plain": [
       "<Figure size 432x288 with 1 Axes>"
      ]
     },
     "metadata": {},
     "output_type": "display_data"
    }
   ],
   "source": [
    "    access_data = get_access_data(\"sz002028\")\n",
    "    labels = ['买盘大单', '买盘小单', '卖盘大单', '卖盘小单']\n",
    "    values = [access_data['买盘大单'], access_data['买盘小单'], access_data['卖盘大单'], access_data['卖盘小单']]\n",
    "    colors = ['yellow', 'green', 'red', 'blue']\n",
    "    explode = 0.1, 0.05, 0.15, 0.2\n",
    "    plt.pie(values, colors=colors, explode=explode, shadow=True, labels=labels, autopct='%1.1f%%')\n",
    "    plt.axis('equal')\n",
    "    plt.show()"
   ]
  },
  {
   "cell_type": "code",
   "execution_count": 5,
   "metadata": {},
   "outputs": [],
   "source": [
    "def get_access_data(code):\n",
    "    url = \"http://qt.gtimg.cn/q=s_pk\" + code\n",
    "    response = requests.get(url)\n",
    "    source = response.text\n",
    "    replace_str = 'v_s_pk' + code + '=\"'\n",
    "    source_array = source.replace(replace_str, \"\").replace('\";', \"\").split(\"~\")\n",
    "    item = {\"买盘大单\": source_array[0], \"买盘小单\": source_array[1], \"卖盘大单\": source_array[2], \"卖盘小单\": source_array[3].strip()}\n",
    "    return item"
   ]
  },
  {
   "cell_type": "code",
   "execution_count": null,
   "metadata": {},
   "outputs": [],
   "source": []
  }
 ],
 "metadata": {
  "kernelspec": {
   "display_name": "Python 3",
   "language": "python",
   "name": "python3"
  },
  "language_info": {
   "codemirror_mode": {
    "name": "ipython",
    "version": 3
   },
   "file_extension": ".py",
   "mimetype": "text/x-python",
   "name": "python",
   "nbconvert_exporter": "python",
   "pygments_lexer": "ipython3",
   "version": "3.6.0"
  }
 },
 "nbformat": 4,
 "nbformat_minor": 2
}
